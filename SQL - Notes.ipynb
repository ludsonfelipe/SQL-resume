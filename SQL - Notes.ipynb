{
 "cells": [
  {
   "cell_type": "code",
   "execution_count": 1,
   "metadata": {},
   "outputs": [],
   "source": [
    "import mysql.connector"
   ]
  },
  {
   "cell_type": "code",
   "execution_count": 8,
   "metadata": {},
   "outputs": [],
   "source": [
    "# Conectando ao banco criado\n",
    "my_db = mysql.connector.connect(\n",
    "  host=\"localhost\",\n",
    "  user=\"root\",\n",
    "  password=\"123456\",\n",
    "  database=\"bancoresumao\"\n",
    ")\n",
    "\n",
    "querys = my_db.cursor()"
   ]
  },
  {
   "cell_type": "markdown",
   "metadata": {
    "heading_collapsed": true
   },
   "source": [
    "# Exibe nomes das Colunas"
   ]
  },
  {
   "cell_type": "code",
   "execution_count": 9,
   "metadata": {
    "hidden": true,
    "scrolled": true
   },
   "outputs": [
    {
     "data": {
      "text/plain": [
       "[('id',), ('nome',), ('idade',), ('sexo',), ('aniversario',)]"
      ]
     },
     "execution_count": 9,
     "metadata": {},
     "output_type": "execute_result"
    }
   ],
   "source": [
    "querys.execute(\"SELECT COLUMN_NAME FROM INFORMATION_SCHEMA.COLUMNS WHERE TABLE_NAME = 'resumo'\")\n",
    "querys.fetchall()"
   ]
  },
  {
   "cell_type": "markdown",
   "metadata": {
    "heading_collapsed": true
   },
   "source": [
    "# Mudando tipo de dado SQL\n",
    "<p> SELECT CAST(col AS type) </p>"
   ]
  },
  {
   "cell_type": "markdown",
   "metadata": {
    "heading_collapsed": true
   },
   "source": [
    "# Visualizando Tabelas e Colunas"
   ]
  },
  {
   "cell_type": "code",
   "execution_count": 4,
   "metadata": {
    "hidden": true
   },
   "outputs": [
    {
     "data": {
      "text/plain": [
       "[('outra_tabela',), ('resumo',), ('sexo_idade',)]"
      ]
     },
     "execution_count": 4,
     "metadata": {},
     "output_type": "execute_result"
    }
   ],
   "source": [
    "querys.execute('SHOW TABLES')\n",
    "querys.fetchall()"
   ]
  },
  {
   "cell_type": "code",
   "execution_count": 5,
   "metadata": {
    "hidden": true
   },
   "outputs": [
    {
     "data": {
      "text/plain": [
       "[('id', b'int', 'NO', 'PRI', None, 'auto_increment'),\n",
       " ('nome', b'varchar(40)', 'YES', '', None, ''),\n",
       " ('idade', b'int', 'YES', '', None, ''),\n",
       " ('sexo', b'char(1)', 'YES', '', None, ''),\n",
       " ('aniversario', b'date', 'YES', '', None, '')]"
      ]
     },
     "execution_count": 5,
     "metadata": {},
     "output_type": "execute_result"
    }
   ],
   "source": [
    "querys.execute('SHOW columns from resumo')\n",
    "querys.fetchall()"
   ]
  },
  {
   "cell_type": "markdown",
   "metadata": {
    "heading_collapsed": true
   },
   "source": [
    "# Selecionando Todos Os Dados"
   ]
  },
  {
   "cell_type": "code",
   "execution_count": 29,
   "metadata": {
    "hidden": true
   },
   "outputs": [
    {
     "data": {
      "text/plain": [
       "[(1, 'Andre', 20, 'M', datetime.date(2002, 12, 20)),\n",
       " (2, 'Joao', 30, 'M', datetime.date(1992, 2, 2)),\n",
       " (3, 'Carlos', 22, 'M', datetime.date(2000, 3, 24)),\n",
       " (4, 'Miguel', 19, 'M', datetime.date(2003, 5, 10)),\n",
       " (5, 'Camila', 40, 'M', datetime.date(1982, 12, 25)),\n",
       " (6, 'Maria', 24, 'F', datetime.date(1998, 11, 5)),\n",
       " (7, 'Janete', 22, 'F', datetime.date(2000, 4, 5))]"
      ]
     },
     "execution_count": 29,
     "metadata": {},
     "output_type": "execute_result"
    }
   ],
   "source": [
    "querys.execute('SELECT * FROM resumo')\n",
    "querys.fetchall()"
   ]
  },
  {
   "cell_type": "markdown",
   "metadata": {
    "heading_collapsed": true
   },
   "source": [
    "# Seleção Booleana Com Data\n",
    "<p> SELECT + WHERE + 'data' </p>"
   ]
  },
  {
   "cell_type": "code",
   "execution_count": 30,
   "metadata": {
    "hidden": true
   },
   "outputs": [
    {
     "data": {
      "text/plain": [
       "[(1, 'Andre', 20, 'M', datetime.date(2002, 12, 20)),\n",
       " (3, 'Carlos', 22, 'M', datetime.date(2000, 3, 24)),\n",
       " (4, 'Miguel', 19, 'M', datetime.date(2003, 5, 10)),\n",
       " (7, 'Janete', 22, 'F', datetime.date(2000, 4, 5))]"
      ]
     },
     "execution_count": 30,
     "metadata": {},
     "output_type": "execute_result"
    }
   ],
   "source": [
    "querys.execute(\"SELECT * FROM resumo WHERE resumo.aniversario > '2000,1,1'\")\n",
    "querys.fetchall()"
   ]
  },
  {
   "cell_type": "markdown",
   "metadata": {
    "hidden": true
   },
   "source": [
    "## Duplo boleano\n",
    "<p> SELECT + WHERE + AND </p>"
   ]
  },
  {
   "cell_type": "code",
   "execution_count": 33,
   "metadata": {
    "hidden": true
   },
   "outputs": [
    {
     "data": {
      "text/plain": [
       "[(2, 'Joao', 30, 'M', datetime.date(1992, 2, 2)),\n",
       " (3, 'Carlos', 22, 'M', datetime.date(2000, 3, 24)),\n",
       " (5, 'Camila', 40, 'M', datetime.date(1982, 12, 25))]"
      ]
     },
     "execution_count": 33,
     "metadata": {},
     "output_type": "execute_result"
    }
   ],
   "source": [
    "querys.execute(\"SELECT * FROM resumo WHERE resumo.idade > 20 and resumo.sexo = 'M'\")\n",
    "querys.fetchall()"
   ]
  },
  {
   "cell_type": "markdown",
   "metadata": {
    "heading_collapsed": true,
    "hidden": true
   },
   "source": [
    "## Booleano Triplo"
   ]
  },
  {
   "cell_type": "code",
   "execution_count": 28,
   "metadata": {
    "hidden": true
   },
   "outputs": [
    {
     "data": {
      "text/plain": [
       "[(2, 'Joao', 30, 'M', datetime.date(1992, 2, 2))]"
      ]
     },
     "execution_count": 28,
     "metadata": {},
     "output_type": "execute_result"
    }
   ],
   "source": [
    "# APENAS JOÃO\n",
    "querys.execute(\"SELECT * FROM resumo WHERE (resumo.idade > 20 and resumo.sexo = 'M') and resumo.idade = 30\")\n",
    "querys.fetchall()"
   ]
  },
  {
   "cell_type": "markdown",
   "metadata": {
    "heading_collapsed": true,
    "hidden": true
   },
   "source": [
    "## Not Booleano "
   ]
  },
  {
   "cell_type": "code",
   "execution_count": 29,
   "metadata": {
    "hidden": true
   },
   "outputs": [
    {
     "data": {
      "text/plain": [
       "[(3, 'Carlos', 22, 'M', datetime.date(2000, 3, 24)),\n",
       " (5, 'Camila', 40, 'M', datetime.date(1982, 12, 25))]"
      ]
     },
     "execution_count": 29,
     "metadata": {},
     "output_type": "execute_result"
    }
   ],
   "source": [
    "# TODOS OS DADOS MENOS JOÃO\n",
    "querys.execute(\"SELECT * FROM resumo WHERE (resumo.idade > 20 and resumo.sexo = 'M') and NOT resumo.idade = 30\")\n",
    "querys.fetchall()"
   ]
  },
  {
   "cell_type": "markdown",
   "metadata": {
    "heading_collapsed": true
   },
   "source": [
    "# Selecionando Apenas Uma Coluna"
   ]
  },
  {
   "cell_type": "code",
   "execution_count": 34,
   "metadata": {
    "hidden": true
   },
   "outputs": [
    {
     "data": {
      "text/plain": [
       "[('Joao',), ('Carlos',), ('Camila',)]"
      ]
     },
     "execution_count": 34,
     "metadata": {},
     "output_type": "execute_result"
    }
   ],
   "source": [
    "querys.execute(\"SELECT nome FROM resumo WHERE resumo.idade > 20 and resumo.sexo = 'M'\")\n",
    "querys.fetchall()"
   ]
  },
  {
   "cell_type": "markdown",
   "metadata": {
    "heading_collapsed": true
   },
   "source": [
    "# Selecionando E Organizando\n",
    "SELECT + ORDER BY"
   ]
  },
  {
   "cell_type": "code",
   "execution_count": 38,
   "metadata": {
    "hidden": true,
    "scrolled": true
   },
   "outputs": [
    {
     "data": {
      "text/plain": [
       "[(4, 'Miguel', 19, 'M', datetime.date(2003, 5, 10)),\n",
       " (1, 'Andre', 20, 'M', datetime.date(2002, 12, 20)),\n",
       " (3, 'Carlos', 22, 'M', datetime.date(2000, 3, 24)),\n",
       " (7, 'Janete', 22, 'F', datetime.date(2000, 4, 5)),\n",
       " (6, 'Maria', 24, 'F', datetime.date(1998, 11, 5)),\n",
       " (2, 'Joao', 30, 'M', datetime.date(1992, 2, 2)),\n",
       " (5, 'Camila', 40, 'M', datetime.date(1982, 12, 25))]"
      ]
     },
     "execution_count": 38,
     "metadata": {},
     "output_type": "execute_result"
    }
   ],
   "source": [
    "# ORDENANDO POR IDADE\n",
    "querys.execute(\"SELECT * FROM resumo ORDER BY idade\")\n",
    "querys.fetchall()"
   ]
  },
  {
   "cell_type": "code",
   "execution_count": 63,
   "metadata": {
    "hidden": true
   },
   "outputs": [
    {
     "data": {
      "text/plain": [
       "[(6, 'Maria', 24, 'F', datetime.date(1998, 11, 5)),\n",
       " (7, 'Janete', 22, 'F', datetime.date(2000, 4, 5)),\n",
       " (1, 'Andre', 20, 'M', datetime.date(2002, 12, 20)),\n",
       " (2, 'Joao', 30, 'M', datetime.date(1992, 2, 2)),\n",
       " (3, 'Carlos', 22, 'M', datetime.date(2000, 3, 24)),\n",
       " (4, 'Miguel', 19, 'M', datetime.date(2003, 5, 10)),\n",
       " (5, 'Camila', 40, 'M', datetime.date(1982, 12, 25))]"
      ]
     },
     "execution_count": 63,
     "metadata": {},
     "output_type": "execute_result"
    }
   ],
   "source": [
    "# ORDENANDO POR IDADE\n",
    "querys.execute(\"SELECT * FROM resumo ORDER BY 4\")\n",
    "querys.fetchall()"
   ]
  },
  {
   "cell_type": "markdown",
   "metadata": {
    "heading_collapsed": true
   },
   "source": [
    "# Selecionando Valores Distintos\n",
    "SELECT + DISTINCT "
   ]
  },
  {
   "cell_type": "code",
   "execution_count": 36,
   "metadata": {
    "hidden": true
   },
   "outputs": [
    {
     "data": {
      "text/plain": [
       "[('M',), ('F',)]"
      ]
     },
     "execution_count": 36,
     "metadata": {},
     "output_type": "execute_result"
    }
   ],
   "source": [
    "# SELECIONANDO UNIQUE VALUES SEXO\n",
    "querys.execute(\"SELECT DISTINCT sexo FROM resumo\")\n",
    "querys.fetchall()"
   ]
  },
  {
   "cell_type": "markdown",
   "metadata": {
    "heading_collapsed": true
   },
   "source": [
    "# Selecionando Apenas Idades Pares\n",
    "<p> SELECT + WHERE + % </p>"
   ]
  },
  {
   "cell_type": "code",
   "execution_count": 37,
   "metadata": {
    "hidden": true
   },
   "outputs": [
    {
     "data": {
      "text/plain": [
       "[(1, 'Andre', 20, 'M', datetime.date(2002, 12, 20)),\n",
       " (2, 'Joao', 30, 'M', datetime.date(1992, 2, 2)),\n",
       " (3, 'Carlos', 22, 'M', datetime.date(2000, 3, 24)),\n",
       " (5, 'Camila', 40, 'M', datetime.date(1982, 12, 25)),\n",
       " (6, 'Maria', 24, 'F', datetime.date(1998, 11, 5)),\n",
       " (7, 'Janete', 22, 'F', datetime.date(2000, 4, 5))]"
      ]
     },
     "execution_count": 37,
     "metadata": {},
     "output_type": "execute_result"
    }
   ],
   "source": [
    "querys.execute(\"SELECT * FROM resumo WHERE resumo.idade % 2 = 0\")\n",
    "querys.fetchall()"
   ]
  },
  {
   "cell_type": "markdown",
   "metadata": {
    "heading_collapsed": true
   },
   "source": [
    "# Criandos Novas Colunas Com Operações Em Outras\n",
    "<p>Criando uma coluna que mostra \"de menor\" para todos dados da coluna resumo onde a idade é menor que 21</p>"
   ]
  },
  {
   "cell_type": "code",
   "execution_count": 20,
   "metadata": {
    "hidden": true
   },
   "outputs": [
    {
     "data": {
      "text/plain": [
       "[(1, 'DE MENOR'), (4, 'DE MENOR')]"
      ]
     },
     "execution_count": 20,
     "metadata": {},
     "output_type": "execute_result"
    }
   ],
   "source": [
    "querys.execute(\"SELECT id, UPPER('de menor') maior_idade FROM resumo WHERE idade < 21\")\n",
    "querys.fetchall()"
   ]
  },
  {
   "cell_type": "markdown",
   "metadata": {
    "heading_collapsed": true
   },
   "source": [
    "# Juntando textos com concat E aninhando FROMS\n",
    "<p> FAZENDO UM FROM ANINHADO OS DADOS DO PRIMEIRO SELECT SÃO SALVOS NA TABELA de_menores E USADOS PELA SEGUNDA TABELA. </p>"
   ]
  },
  {
   "cell_type": "code",
   "execution_count": 21,
   "metadata": {
    "hidden": true
   },
   "outputs": [
    {
     "data": {
      "text/plain": [
       "[('Andre tem 20 anos',), ('Miguel tem 19 anos',)]"
      ]
     },
     "execution_count": 21,
     "metadata": {},
     "output_type": "execute_result"
    }
   ],
   "source": [
    "querys.execute(\"SELECT CONCAT(de_menores.nome, ' tem ', de_menores.idade, ' anos') 'De Menores' FROM (SELECT nome,idade FROM resumo WHERE idade <22) de_menores\")\n",
    "querys.fetchall()"
   ]
  },
  {
   "cell_type": "markdown",
   "metadata": {
    "heading_collapsed": true
   },
   "source": [
    "# Usando LIKE para manipular Strings"
   ]
  },
  {
   "cell_type": "code",
   "execution_count": 22,
   "metadata": {
    "hidden": true
   },
   "outputs": [
    {
     "data": {
      "text/plain": [
       "[(4, 'Miguel', 19, 'M', datetime.date(2003, 5, 10)),\n",
       " (6, 'Maria', 24, 'F', datetime.date(1998, 11, 5))]"
      ]
     },
     "execution_count": 22,
     "metadata": {},
     "output_type": "execute_result"
    }
   ],
   "source": [
    "querys.execute(\"SELECT * FROM RESUMO WHERE nome LIKE 'M%'\")\n",
    "querys.fetchall()"
   ]
  },
  {
   "cell_type": "markdown",
   "metadata": {
    "heading_collapsed": true
   },
   "source": [
    "# Criando Uma View"
   ]
  },
  {
   "cell_type": "code",
   "execution_count": 28,
   "metadata": {
    "hidden": true
   },
   "outputs": [
    {
     "data": {
      "text/plain": [
       "[(24, 'F'), (22, 'F')]"
      ]
     },
     "execution_count": 28,
     "metadata": {},
     "output_type": "execute_result"
    }
   ],
   "source": [
    "querys.execute(\"CREATE VIEW sexo_idade AS SELECT idade, sexo FROM resumo WHERE sexo = 'F'\")\n",
    "querys.execute(\"SELECT * FROM sexo_idade\")\n",
    "querys.fetchall()"
   ]
  },
  {
   "cell_type": "markdown",
   "metadata": {
    "heading_collapsed": true
   },
   "source": [
    "# Inner Join\n",
    "<p> ACRESCENTANDO apelido + fazendo INNER JOIN </p>"
   ]
  },
  {
   "cell_type": "code",
   "execution_count": 48,
   "metadata": {
    "hidden": true
   },
   "outputs": [
    {
     "data": {
      "text/plain": [
       "[(1, 'Andre', 20, 'M', datetime.date(2002, 12, 20)),\n",
       " (2, 'Joao', 30, 'M', datetime.date(1992, 2, 2)),\n",
       " (3, 'Carlos', 22, 'M', datetime.date(2000, 3, 24)),\n",
       " (4, 'Miguel', 19, 'M', datetime.date(2003, 5, 10)),\n",
       " (5, 'Camila', 40, 'M', datetime.date(1982, 12, 25)),\n",
       " (6, 'Maria', 24, 'F', datetime.date(1998, 11, 5)),\n",
       " (7, 'Janete', 22, 'F', datetime.date(2000, 4, 5))]"
      ]
     },
     "execution_count": 48,
     "metadata": {},
     "output_type": "execute_result"
    }
   ],
   "source": [
    "querys.execute('SELECT * FROM resumo')\n",
    "querys.fetchall()"
   ]
  },
  {
   "cell_type": "code",
   "execution_count": 9,
   "metadata": {
    "hidden": true
   },
   "outputs": [
    {
     "data": {
      "text/plain": [
       "[(1, 1.8), (2, 1.9), (3, 1.86), (4, 1.75), (5, 1.54), (6, 1.66), (7, 1.5)]"
      ]
     },
     "execution_count": 9,
     "metadata": {},
     "output_type": "execute_result"
    }
   ],
   "source": [
    "querys.execute('SELECT * FROM outra_tabela')\n",
    "querys.fetchall()"
   ]
  },
  {
   "cell_type": "code",
   "execution_count": 18,
   "metadata": {
    "hidden": true
   },
   "outputs": [],
   "source": [
    "new_q = (\"SELECT r.id,r.sexo,o.altura FROM resumo r INNER JOIN outra_tabela o ON r.id = o.id\")"
   ]
  },
  {
   "cell_type": "code",
   "execution_count": 19,
   "metadata": {
    "hidden": true
   },
   "outputs": [
    {
     "data": {
      "text/plain": [
       "[(1, 'M', 1.8),\n",
       " (2, 'M', 1.9),\n",
       " (3, 'M', 1.86),\n",
       " (4, 'M', 1.75),\n",
       " (5, 'M', 1.54),\n",
       " (6, 'F', 1.66),\n",
       " (7, 'F', 1.5)]"
      ]
     },
     "execution_count": 19,
     "metadata": {},
     "output_type": "execute_result"
    }
   ],
   "source": [
    "querys.execute(new_q)\n",
    "querys.fetchall()"
   ]
  },
  {
   "cell_type": "markdown",
   "metadata": {
    "heading_collapsed": true
   },
   "source": [
    "# GROUP BY\n",
    "<p> USAMOS O HAVING PARA EFETUAR UMA SELEÇÃO DEPOIS DO AGRUPAMENTO </p>\n",
    "<p> USAMOS O WHERE PARA EFETUAR UMA SELEÇÃO ANTES DO AGRUPAMENTO </p>"
   ]
  },
  {
   "cell_type": "code",
   "execution_count": 6,
   "metadata": {
    "hidden": true
   },
   "outputs": [
    {
     "data": {
      "text/plain": [
       "[(1, 'Andre', 20, 'M', datetime.date(2002, 12, 20)),\n",
       " (2, 'Joao', 30, 'M', datetime.date(1992, 2, 2)),\n",
       " (3, 'Carlos', 22, 'M', datetime.date(2000, 3, 24)),\n",
       " (4, 'Miguel', 19, 'M', datetime.date(2003, 5, 10)),\n",
       " (5, 'Camila', 40, 'M', datetime.date(1982, 12, 25)),\n",
       " (6, 'Maria', 24, 'F', datetime.date(1998, 11, 5)),\n",
       " (7, 'Janete', 22, 'F', datetime.date(2000, 4, 5))]"
      ]
     },
     "execution_count": 6,
     "metadata": {},
     "output_type": "execute_result"
    }
   ],
   "source": [
    "querys.execute('SELECT * FROM resumo')\n",
    "querys.fetchall()"
   ]
  },
  {
   "cell_type": "code",
   "execution_count": 12,
   "metadata": {
    "hidden": true
   },
   "outputs": [
    {
     "data": {
      "text/plain": [
       "[('M', Decimal('131')), ('F', Decimal('46'))]"
      ]
     },
     "execution_count": 12,
     "metadata": {},
     "output_type": "execute_result"
    }
   ],
   "source": [
    "querys.execute('SELECT sexo,sum(idade) FROM resumo GROUP BY resumo.sexo')\n",
    "querys.fetchall()"
   ]
  },
  {
   "cell_type": "code",
   "execution_count": 17,
   "metadata": {
    "hidden": true
   },
   "outputs": [
    {
     "data": {
      "text/plain": [
       "[('M', Decimal('131')), ('F', Decimal('46'))]"
      ]
     },
     "execution_count": 17,
     "metadata": {},
     "output_type": "execute_result"
    }
   ],
   "source": [
    "querys.execute('SELECT sexo,sum(idade) FROM resumo GROUP BY resumo.sexo HAVING sum(idade) > 20')\n",
    "querys.fetchall()"
   ]
  },
  {
   "cell_type": "code",
   "execution_count": 26,
   "metadata": {
    "hidden": true
   },
   "outputs": [
    {
     "data": {
      "text/plain": [
       "[('M', Decimal('70')), ('F', Decimal('24'))]"
      ]
     },
     "execution_count": 26,
     "metadata": {},
     "output_type": "execute_result"
    }
   ],
   "source": [
    "querys.execute('SELECT sexo, sum(idade) FROM resumo WHERE idade > 22 GROUP BY resumo.sexo')\n",
    "querys.fetchall()"
   ]
  },
  {
   "cell_type": "markdown",
   "metadata": {
    "heading_collapsed": true
   },
   "source": [
    "# BETWEEN"
   ]
  },
  {
   "cell_type": "code",
   "execution_count": 4,
   "metadata": {
    "hidden": true
   },
   "outputs": [
    {
     "data": {
      "text/plain": [
       "[(2, 'Joao', 30, 'M', datetime.date(1992, 2, 2)),\n",
       " (3, 'Carlos', 22, 'M', datetime.date(2000, 3, 24)),\n",
       " (6, 'Maria', 24, 'F', datetime.date(1998, 11, 5)),\n",
       " (7, 'Janete', 22, 'F', datetime.date(2000, 4, 5))]"
      ]
     },
     "execution_count": 4,
     "metadata": {},
     "output_type": "execute_result"
    }
   ],
   "source": [
    "querys.execute('SELECT * FROM resumo WHERE idade BETWEEN 22 AND 30')\n",
    "querys.fetchall()"
   ]
  },
  {
   "cell_type": "code",
   "execution_count": 11,
   "metadata": {
    "hidden": true
   },
   "outputs": [
    {
     "data": {
      "text/plain": [
       "[(1, 'Andre', 20, 'M', datetime.date(2002, 12, 20)),\n",
       " (3, 'Carlos', 22, 'M', datetime.date(2000, 3, 24)),\n",
       " (5, 'Camila', 40, 'M', datetime.date(1982, 12, 25))]"
      ]
     },
     "execution_count": 11,
     "metadata": {},
     "output_type": "execute_result"
    }
   ],
   "source": [
    "querys.execute(\"SELECT * FROM resumo WHERE nome BETWEEN 'A' AND 'D'\")\n",
    "querys.fetchall()"
   ]
  },
  {
   "cell_type": "markdown",
   "metadata": {
    "heading_collapsed": true
   },
   "source": [
    "# MANIPULAÇÃO DE STRING"
   ]
  },
  {
   "cell_type": "markdown",
   "metadata": {
    "heading_collapsed": true,
    "hidden": true
   },
   "source": [
    "## OPERADOR LIKE"
   ]
  },
  {
   "cell_type": "code",
   "execution_count": 21,
   "metadata": {
    "hidden": true
   },
   "outputs": [],
   "source": [
    "# SELECIONANDO PESSOAS COM a na segunda letra"
   ]
  },
  {
   "cell_type": "code",
   "execution_count": 22,
   "metadata": {
    "hidden": true
   },
   "outputs": [
    {
     "data": {
      "text/plain": [
       "[('Carlos',), ('Camila',), ('Maria',), ('Janete',)]"
      ]
     },
     "execution_count": 22,
     "metadata": {},
     "output_type": "execute_result"
    }
   ],
   "source": [
    "querys.execute(\"SELECT nome FROM resumo WHERE nome like '_a%'\")\n",
    "querys.fetchall()"
   ]
  },
  {
   "cell_type": "code",
   "execution_count": 23,
   "metadata": {
    "hidden": true
   },
   "outputs": [
    {
     "data": {
      "text/plain": [
       "[('Andre',), ('Joao',), ('Carlos',), ('Camila',), ('Maria',), ('Janete',)]"
      ]
     },
     "execution_count": 23,
     "metadata": {},
     "output_type": "execute_result"
    }
   ],
   "source": [
    "querys.execute(\"SELECT nome FROM resumo WHERE nome like '%a%'\")\n",
    "querys.fetchall()"
   ]
  },
  {
   "cell_type": "markdown",
   "metadata": {
    "heading_collapsed": true,
    "hidden": true
   },
   "source": [
    "## Like Com Count"
   ]
  },
  {
   "cell_type": "code",
   "execution_count": 28,
   "metadata": {
    "hidden": true
   },
   "outputs": [
    {
     "data": {
      "text/plain": [
       "[('Andre', 0),\n",
       " ('Joao', 0),\n",
       " ('Carlos', 0),\n",
       " ('Miguel', 1),\n",
       " ('Camila', 0),\n",
       " ('Maria', 1),\n",
       " ('Janete', 0)]"
      ]
     },
     "execution_count": 28,
     "metadata": {},
     "output_type": "execute_result"
    }
   ],
   "source": [
    "querys.execute(\"SELECT nome, nome LIKE 'M%' valores FROM resumo \")\n",
    "querys.fetchall()"
   ]
  },
  {
   "cell_type": "markdown",
   "metadata": {
    "heading_collapsed": true
   },
   "source": [
    "# OPERADOR IN COM LIKE"
   ]
  },
  {
   "cell_type": "code",
   "execution_count": null,
   "metadata": {
    "hidden": true
   },
   "outputs": [],
   "source": [
    "querys.execute(\"SELECT nome,idade FROM resumo WHERE nome IN (SELECT nome FROM resumo WHERE nome like 'C%')\")\n",
    "querys.fetchall()"
   ]
  },
  {
   "cell_type": "code",
   "execution_count": 20,
   "metadata": {
    "hidden": true
   },
   "outputs": [],
   "source": [
    "# SELECIONANDO DADOS QUE COMEÇAM COM C"
   ]
  },
  {
   "cell_type": "code",
   "execution_count": 10,
   "metadata": {
    "hidden": true,
    "scrolled": true
   },
   "outputs": [
    {
     "data": {
      "text/plain": [
       "[('Carlos', 22), ('Camila', 40)]"
      ]
     },
     "execution_count": 10,
     "metadata": {},
     "output_type": "execute_result"
    }
   ],
   "source": [
    "querys.execute(\"SELECT nome,idade FROM resumo WHERE nome IN (SELECT nome FROM resumo WHERE nome like 'C%')\")\n",
    "querys.fetchall()"
   ]
  },
  {
   "cell_type": "markdown",
   "metadata": {
    "heading_collapsed": true,
    "hidden": true
   },
   "source": [
    "## NOT IN"
   ]
  },
  {
   "cell_type": "code",
   "execution_count": 19,
   "metadata": {
    "hidden": true
   },
   "outputs": [],
   "source": [
    "# SELECIONANDO OS DADOS QUE NÃO COMEÇAM COM C"
   ]
  },
  {
   "cell_type": "code",
   "execution_count": 11,
   "metadata": {
    "hidden": true
   },
   "outputs": [
    {
     "data": {
      "text/plain": [
       "[('Andre', 20), ('Joao', 30), ('Miguel', 19), ('Maria', 24), ('Janete', 22)]"
      ]
     },
     "execution_count": 11,
     "metadata": {},
     "output_type": "execute_result"
    }
   ],
   "source": [
    "querys.execute(\"SELECT nome,idade FROM resumo WHERE nome NOT IN (SELECT nome FROM resumo WHERE nome like 'C%')\")\n",
    "querys.fetchall()"
   ]
  },
  {
   "cell_type": "markdown",
   "metadata": {
    "heading_collapsed": true,
    "hidden": true
   },
   "source": [
    "## LEFT"
   ]
  },
  {
   "cell_type": "code",
   "execution_count": 18,
   "metadata": {
    "hidden": true
   },
   "outputs": [],
   "source": [
    "# SELECIONANDO APENAS O MIGUEL"
   ]
  },
  {
   "cell_type": "code",
   "execution_count": 17,
   "metadata": {
    "hidden": true
   },
   "outputs": [
    {
     "data": {
      "text/plain": [
       "[('Miguel',)]"
      ]
     },
     "execution_count": 17,
     "metadata": {},
     "output_type": "execute_result"
    }
   ],
   "source": [
    "querys.execute(\"SELECT nome FROM resumo WHERE LEFT(nome,2) = 'Mi'\")\n",
    "querys.fetchall()"
   ]
  },
  {
   "cell_type": "markdown",
   "metadata": {
    "heading_collapsed": true
   },
   "source": [
    "# NULL\n",
    "<p> Retornando nulos </p>"
   ]
  },
  {
   "cell_type": "code",
   "execution_count": 24,
   "metadata": {
    "hidden": true
   },
   "outputs": [
    {
     "data": {
      "text/plain": [
       "[]"
      ]
     },
     "execution_count": 24,
     "metadata": {},
     "output_type": "execute_result"
    }
   ],
   "source": [
    "querys.execute(\"SELECT * FROM resumo WHERE idade = NULL\")\n",
    "querys.fetchall()"
   ]
  },
  {
   "cell_type": "code",
   "execution_count": 25,
   "metadata": {
    "hidden": true
   },
   "outputs": [
    {
     "data": {
      "text/plain": [
       "[]"
      ]
     },
     "execution_count": 25,
     "metadata": {},
     "output_type": "execute_result"
    }
   ],
   "source": [
    "querys.execute(\"SELECT * FROM resumo WHERE idade IS NULL\")\n",
    "querys.fetchall()"
   ]
  },
  {
   "cell_type": "markdown",
   "metadata": {
    "heading_collapsed": true
   },
   "source": [
    "# DIFERENTE !=                <> \n",
    "<p> Valores diferentes de uma determinada variavel </p>"
   ]
  },
  {
   "cell_type": "code",
   "execution_count": 30,
   "metadata": {
    "hidden": true
   },
   "outputs": [
    {
     "data": {
      "text/plain": [
       "[(1, 'Andre', 20, 'M', datetime.date(2002, 12, 20)),\n",
       " (2, 'Joao', 30, 'M', datetime.date(1992, 2, 2)),\n",
       " (3, 'Carlos', 22, 'M', datetime.date(2000, 3, 24)),\n",
       " (4, 'Miguel', 19, 'M', datetime.date(2003, 5, 10)),\n",
       " (6, 'Maria', 24, 'F', datetime.date(1998, 11, 5)),\n",
       " (7, 'Janete', 22, 'F', datetime.date(2000, 4, 5))]"
      ]
     },
     "execution_count": 30,
     "metadata": {},
     "output_type": "execute_result"
    }
   ],
   "source": [
    "querys.execute('SELECT * FROM resumo WHERE idade <> 40')\n",
    "querys.fetchall()"
   ]
  },
  {
   "cell_type": "markdown",
   "metadata": {},
   "source": [
    "# UNION\n",
    "<p> União de Datasets </p>"
   ]
  },
  {
   "cell_type": "code",
   "execution_count": 39,
   "metadata": {},
   "outputs": [
    {
     "data": {
      "text/plain": [
       "[(2, 'Joao', 30, 'M', datetime.date(1992, 2, 2)),\n",
       " (5, 'Camila', 40, 'M', datetime.date(1982, 12, 25)),\n",
       " (6, 'Maria', 24, 'F', datetime.date(1998, 11, 5)),\n",
       " (1, 'Andre', 20, 'M', datetime.date(2002, 12, 20)),\n",
       " (4, 'Miguel', 19, 'M', datetime.date(2003, 5, 10))]"
      ]
     },
     "execution_count": 39,
     "metadata": {},
     "output_type": "execute_result"
    }
   ],
   "source": [
    "querys.execute('SELECT * FROM resumo WHERE idade >22 UNION SELECT * FROM resumo WHERE idade <22')\n",
    "querys.fetchall()"
   ]
  },
  {
   "cell_type": "markdown",
   "metadata": {
    "heading_collapsed": true
   },
   "source": [
    "# CONCAT\n",
    "<p> Junção de palavras </p>\n",
    "<p> PARA SQL SERVER JUNTAMOS PALAVRAS COM || </p>"
   ]
  },
  {
   "cell_type": "code",
   "execution_count": 9,
   "metadata": {
    "hidden": true
   },
   "outputs": [
    {
     "data": {
      "text/plain": [
       "[('Andre@outlook.com',),\n",
       " ('Joao@outlook.com',),\n",
       " ('Carlos@outlook.com',),\n",
       " ('Miguel@outlook.com',),\n",
       " ('Camila@outlook.com',),\n",
       " ('Maria@outlook.com',),\n",
       " ('Janete@outlook.com',)]"
      ]
     },
     "execution_count": 9,
     "metadata": {},
     "output_type": "execute_result"
    }
   ],
   "source": [
    "querys.execute(\"SELECT CONCAT(nome,'@outlook.com') FROM resumo \")\n",
    "querys.fetchall()"
   ]
  },
  {
   "cell_type": "markdown",
   "metadata": {
    "heading_collapsed": true
   },
   "source": [
    "# Length"
   ]
  },
  {
   "cell_type": "markdown",
   "metadata": {
    "hidden": true
   },
   "source": [
    "<p> Tamanho das palavras </p>"
   ]
  },
  {
   "cell_type": "code",
   "execution_count": 10,
   "metadata": {
    "hidden": true
   },
   "outputs": [
    {
     "data": {
      "text/plain": [
       "[(5,), (4,), (6,), (6,), (6,), (5,), (6,)]"
      ]
     },
     "execution_count": 10,
     "metadata": {},
     "output_type": "execute_result"
    }
   ],
   "source": [
    "querys.execute(\"SELECT LENGTH(nome) FROM resumo \")\n",
    "querys.fetchall()"
   ]
  },
  {
   "cell_type": "markdown",
   "metadata": {
    "heading_collapsed": true
   },
   "source": [
    "# Posições Indices\n",
    "<p> Seleção de indices com position e locate </p>"
   ]
  },
  {
   "cell_type": "code",
   "execution_count": 15,
   "metadata": {
    "hidden": true
   },
   "outputs": [
    {
     "data": {
      "text/plain": [
       "[(0,), (0,), (0,), (4,), (0,), (0,), (0,)]"
      ]
     },
     "execution_count": 15,
     "metadata": {},
     "output_type": "execute_result"
    }
   ],
   "source": [
    "querys.execute(\"SELECT POSITION('ue' IN nome) FROM resumo \")\n",
    "querys.fetchall()"
   ]
  },
  {
   "cell_type": "code",
   "execution_count": 23,
   "metadata": {
    "hidden": true,
    "scrolled": true
   },
   "outputs": [
    {
     "data": {
      "text/plain": [
       "[(0,), (0,), (0,), (4,), (0,), (0,), (0,)]"
      ]
     },
     "execution_count": 23,
     "metadata": {},
     "output_type": "execute_result"
    }
   ],
   "source": [
    "querys.execute(\"SELECT LOCATE('ue', nome, 4) FROM resumo \")\n",
    "querys.fetchall()"
   ]
  },
  {
   "cell_type": "markdown",
   "metadata": {
    "heading_collapsed": true
   },
   "source": [
    "# Replace\n",
    "<p> Altera um determinado dado </p>\n",
    "<p> para o SQL SERVER usaremos o STUFF </p>"
   ]
  },
  {
   "cell_type": "code",
   "execution_count": 29,
   "metadata": {
    "hidden": true
   },
   "outputs": [
    {
     "data": {
      "text/plain": [
       "[(1, 'Andre', 20, 'M', datetime.date(2002, 12, 20)),\n",
       " (2, 'Joao', 30, 'M', datetime.date(1992, 2, 2)),\n",
       " (3, 'Carlos', 22, 'M', datetime.date(2000, 3, 24)),\n",
       " (4, 'Miguel', 19, 'M', datetime.date(2003, 5, 10)),\n",
       " (5, 'Camila', 40, 'M', datetime.date(1982, 12, 25)),\n",
       " (6, 'Maria', 24, 'F', datetime.date(1998, 11, 5)),\n",
       " (7, 'Janete', 22, 'F', datetime.date(2000, 4, 5))]"
      ]
     },
     "execution_count": 29,
     "metadata": {},
     "output_type": "execute_result"
    }
   ],
   "source": [
    "querys.execute(\"SELECT * FROM resumo \")\n",
    "querys.fetchall()"
   ]
  },
  {
   "cell_type": "code",
   "execution_count": 32,
   "metadata": {
    "hidden": true
   },
   "outputs": [
    {
     "data": {
      "text/plain": [
       "[('0',), ('0',), ('0',), ('0',), ('0',), ('0',), ('0',)]"
      ]
     },
     "execution_count": 32,
     "metadata": {},
     "output_type": "execute_result"
    }
   ],
   "source": [
    "querys.execute(\"SELECT REPLACE('M','M','0') FROM resumo\")\n",
    "querys.fetchall()"
   ]
  },
  {
   "cell_type": "markdown",
   "metadata": {
    "heading_collapsed": true
   },
   "source": [
    "# Calculos\n",
    "<p> Formulas matemáticas </p>"
   ]
  },
  {
   "attachments": {
    "image.png": {
     "image/png": "[encoded data removed]"
    }
   },
   "cell_type": "markdown",
   "metadata": {
    "hidden": true
   },
   "source": [
    "![image.png](attachment:image.png)\n",
    "<p><b> MOD, AVERAGE, SUM, MIN, POW, CEIL, FLOOR, ROUND, TRUNCATE, SIGN, ABS</b></p>"
   ]
  },
  {
   "attachments": {},
   "cell_type": "markdown",
   "metadata": {
    "heading_collapsed": true
   },
   "source": [
    "# DATA TYPE\n",
    "<p> Extraindo datas </p>"
   ]
  },
  {
   "cell_type": "code",
   "execution_count": 53,
   "metadata": {
    "hidden": true
   },
   "outputs": [
    {
     "data": {
      "text/plain": [
       "[(12, 2002, datetime.date(2022, 3, 3), datetime.timedelta(seconds=72892)),\n",
       " (2, 1992, datetime.date(2022, 3, 3), datetime.timedelta(seconds=72892)),\n",
       " (3, 2000, datetime.date(2022, 3, 3), datetime.timedelta(seconds=72892)),\n",
       " (5, 2003, datetime.date(2022, 3, 3), datetime.timedelta(seconds=72892)),\n",
       " (12, 1982, datetime.date(2022, 3, 3), datetime.timedelta(seconds=72892)),\n",
       " (11, 1998, datetime.date(2022, 3, 3), datetime.timedelta(seconds=72892)),\n",
       " (4, 2000, datetime.date(2022, 3, 3), datetime.timedelta(seconds=72892))]"
      ]
     },
     "execution_count": 53,
     "metadata": {},
     "output_type": "execute_result"
    }
   ],
   "source": [
    "querys.execute(\"SELECT MONTH(aniversario), YEAR(aniversario), current_date(),current_time() FROM resumo\")\n",
    "querys.fetchall()"
   ]
  },
  {
   "cell_type": "markdown",
   "metadata": {
    "heading_collapsed": true
   },
   "source": [
    "# CASE WHEN"
   ]
  },
  {
   "cell_type": "code",
   "execution_count": 10,
   "metadata": {
    "hidden": true
   },
   "outputs": [
    {
     "data": {
      "text/plain": [
       "[('Andre', 20, 'JOVEM'),\n",
       " ('Joao', 30, 'VELHO'),\n",
       " ('Carlos', 22, 'MEDIA IDADE'),\n",
       " ('Miguel', 19, 'JOVEM'),\n",
       " ('Camila', 40, 'VELHO'),\n",
       " ('Maria', 24, 'VELHO'),\n",
       " ('Janete', 22, 'MEDIA IDADE')]"
      ]
     },
     "execution_count": 10,
     "metadata": {},
     "output_type": "execute_result"
    }
   ],
   "source": [
    "querys.execute(\"\\\n",
    "    SELECT nome,idade, CASE \\\n",
    "    WHEN resumo.idade > 22 THEN 'VELHO' \\\n",
    "    WHEN resumo.idade = 22 THEN 'MEDIA IDADE' \\\n",
    "    ELSE 'JOVEM' END 'faixa' FROM resumo\")\n",
    "querys.fetchall()"
   ]
  }
 ],
 "metadata": {
  "kernelspec": {
   "display_name": "Python 3 (ipykernel)",
   "language": "python",
   "name": "python3"
  },
  "language_info": {
   "codemirror_mode": {
    "name": "ipython",
    "version": 3
   },
   "file_extension": ".py",
   "mimetype": "text/x-python",
   "name": "python",
   "nbconvert_exporter": "python",
   "pygments_lexer": "ipython3",
   "version": "3.9.7"
  },
  "toc": {
   "base_numbering": 1,
   "nav_menu": {},
   "number_sections": true,
   "sideBar": true,
   "skip_h1_title": false,
   "title_cell": "Table of Contents",
   "title_sidebar": "Contents",
   "toc_cell": false,
   "toc_position": {},
   "toc_section_display": true,
   "toc_window_display": false
  },
  "vscode": {
   "interpreter": {
    "hash": "ce8b5e658b2eede209b31591b9f0d4f1ed334d79e0c4190ad78d2af0dd810241"
   }
  }
 },
 "nbformat": 4,
 "nbformat_minor": 2
}
