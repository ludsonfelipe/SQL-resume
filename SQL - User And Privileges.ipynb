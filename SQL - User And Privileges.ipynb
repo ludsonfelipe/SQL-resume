{
 "cells": [
  {
   "cell_type": "code",
   "execution_count": 1,
   "id": "0726d083",
   "metadata": {},
   "outputs": [],
   "source": [
    "import mysql.connector"
   ]
  },
  {
   "cell_type": "code",
   "execution_count": 2,
   "id": "a6df09d7",
   "metadata": {},
   "outputs": [],
   "source": [
    "my_db = mysql.connector.connect(host='localhost',\n",
    "                                user='root',\n",
    "                                password='123456'\n",
    "                               )"
   ]
  },
  {
   "cell_type": "code",
   "execution_count": 7,
   "id": "7ec579ba",
   "metadata": {},
   "outputs": [],
   "source": [
    "querys = my_db.cursor()"
   ]
  },
  {
   "cell_type": "markdown",
   "id": "2b161941",
   "metadata": {},
   "source": [
    "# Criando usuarios"
   ]
  },
  {
   "cell_type": "markdown",
   "id": "9378afc8",
   "metadata": {},
   "source": [
    "<p> CREATE USER 'nomeuser' @ 'host' IDENTIFIED BY 'password' </p>"
   ]
  },
  {
   "cell_type": "code",
   "execution_count": 9,
   "id": "236e3934",
   "metadata": {},
   "outputs": [],
   "source": [
    "querys.execute(\"CREATE USER 'admin'@'localhost' IDENTIFIED BY '123456' \")"
   ]
  },
  {
   "cell_type": "code",
   "execution_count": 11,
   "id": "96895535",
   "metadata": {},
   "outputs": [],
   "source": [
    "querys.execute(\"CREATE USER 'other'@'localhost' IDENTIFIED BY '123456' \")"
   ]
  },
  {
   "cell_type": "markdown",
   "id": "223e8380",
   "metadata": {},
   "source": [
    "# Permissões a usuarios\n",
    "<b><p> Tipos de permissão </p></b>\n",
    "\n",
    "<b><p> Concedendo permissão </p></b>\n",
    "* GRANT ALL PRIVILEGES (da todos privilegios)\n",
    "* GRANT OPTION (da privilegios de GRANT a um usuario)\n",
    "* GRANT **tipo_de_permissao** ON **data_base**.**table** TO **'usuario'@'localhost'** \n",
    "\n",
    "<b><p> Removendo Permissões </b></p>\n",
    "* REVOKE **tipo_de_permissao** ON **data_base**.**table** FROM **'usuario'@'localhost'** "
   ]
  },
  {
   "cell_type": "markdown",
   "id": "5075e6a1",
   "metadata": {},
   "source": [
    "<p> Dando privilegios em todos DATABASES . TODAS TABELAS</p>\n"
   ]
  },
  {
   "cell_type": "code",
   "execution_count": 14,
   "id": "9b3f736d",
   "metadata": {},
   "outputs": [],
   "source": [
    "querys.execute(\"GRANT ALL PRIVILEGES ON *.* TO 'admin'@'localhost'\")"
   ]
  }
 ],
 "metadata": {
  "kernelspec": {
   "display_name": "Python 3 (ipykernel)",
   "language": "python",
   "name": "python3"
  },
  "language_info": {
   "codemirror_mode": {
    "name": "ipython",
    "version": 3
   },
   "file_extension": ".py",
   "mimetype": "text/x-python",
   "name": "python",
   "nbconvert_exporter": "python",
   "pygments_lexer": "ipython3",
   "version": "3.9.7"
  },
  "toc": {
   "base_numbering": 1,
   "nav_menu": {},
   "number_sections": true,
   "sideBar": true,
   "skip_h1_title": false,
   "title_cell": "Table of Contents",
   "title_sidebar": "Contents",
   "toc_cell": false,
   "toc_position": {},
   "toc_section_display": true,
   "toc_window_display": false
  },
  "vscode": {
   "interpreter": {
    "hash": "ce8b5e658b2eede209b31591b9f0d4f1ed334d79e0c4190ad78d2af0dd810241"
   }
  }
 },
 "nbformat": 4,
 "nbformat_minor": 5
}
